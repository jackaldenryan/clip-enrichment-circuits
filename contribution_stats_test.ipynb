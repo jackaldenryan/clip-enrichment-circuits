{
 "cells": [
  {
   "cell_type": "code",
   "execution_count": null,
   "metadata": {},
   "outputs": [],
   "source": [
    "%load_ext autoreload\n",
    "%autoreload 2"
   ]
  },
  {
   "cell_type": "code",
   "execution_count": null,
   "metadata": {},
   "outputs": [],
   "source": [
    "from expanded_weights import model\n",
    "from stats_tools import contributions_stats, imageActDistribution, versatility_stats\n",
    "from PIL import Image\n"
   ]
  },
  {
   "cell_type": "code",
   "execution_count": null,
   "metadata": {},
   "outputs": [],
   "source": [
    "unit = 2\n",
    "lower_layer = (4, 2, 1)\n",
    "upper_layer = (4, 2, 5)\n",
    "\n",
    "#contributions_stats(lower_layer, upper_layer, unit, backwardContrib=False, numContributions=5, sortBy=\"mean\", heatMaps=True, contribMap=True, meansHist=True, magsHist=True)\n",
    "versatilityStats = versatility_stats(lower_layer, upper_layer, numUnits=25, sortBy=\"negativeMean\", numContributions=10, absValMeanHist=True, positiveMeanHist=True, negativeMeanHist=True, magMeanHist=True)"
   ]
  },
  {
   "cell_type": "code",
   "execution_count": null,
   "metadata": {},
   "outputs": [],
   "source": [
    "unit = 1052\n",
    "layer = (4, 2, 5)\n",
    "numImages = 10\n",
    "image = Image.open(\"keep_america_great.png\").convert(\"RGB\")\n",
    "\n",
    "filename = \"../../seri/generated/imageActDist_\" + str(layer[0]) + \"_\" + str(layer[1]) + \"_\" + str(layer[2]) + \"_\" + str(unit) + \"_\" + str(numImages)\n",
    "\n",
    "imageActDistribution(layer, unit, numImages, image, filename)"
   ]
  }
 ],
 "metadata": {
  "kernelspec": {
   "display_name": "Python 3",
   "language": "python",
   "name": "python3"
  },
  "language_info": {
   "codemirror_mode": {
    "name": "ipython",
    "version": 3
   },
   "file_extension": ".py",
   "mimetype": "text/x-python",
   "name": "python",
   "nbconvert_exporter": "python",
   "pygments_lexer": "ipython3",
   "version": "3.8.5"
  }
 },
 "nbformat": 4,
 "nbformat_minor": 4
}