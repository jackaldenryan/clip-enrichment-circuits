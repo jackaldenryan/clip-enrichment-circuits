{
 "cells": [
  {
   "cell_type": "code",
   "execution_count": 12,
   "id": "exceptional-cancer",
   "metadata": {},
   "outputs": [],
   "source": [
    "%load_ext autoreload\n",
    "%autoreload 2"
   ]
  },
  {
   "cell_type": "code",
   "execution_count": 2,
   "id": "linear-triple",
   "metadata": {},
   "outputs": [],
   "source": [
    "import activations_tool\n",
    "import time\n",
    "from IPython.core.display import HTML\n",
    "from input_generation import rasterize_text\n",
    "import numpy as np\n",
    "from expanded_weights import model as linear_model, get_expanded_weights, top_connected_units"
   ]
  },
  {
   "cell_type": "code",
   "execution_count": null,
   "id": "rubber-updating",
   "metadata": {},
   "outputs": [
    {
     "name": "stdout",
     "output_type": "stream",
     "text": [
      "Word: coffee\n",
      "Number of channels: 5\n",
      "\n",
      "Top activating channels:\n"
     ]
    },
    {
     "data": {
      "text/html": [
       "<a href='https://ggoh-staging-dot-encyclopedia-251300.wl.r.appspot.com/models/contrastive_rn50/image_block_4_2_Add_6_0/761' target='_blank'>761</a> -> 1.509521484375\n"
      ],
      "text/plain": [
       "<IPython.core.display.HTML object>"
      ]
     },
     "metadata": {},
     "output_type": "display_data"
    },
    {
     "data": {
      "text/html": [
       "<a href='https://ggoh-staging-dot-encyclopedia-251300.wl.r.appspot.com/models/contrastive_rn50/image_block_4_2_Add_6_0/1018' target='_blank'>1018</a> -> 1.03515625\n"
      ],
      "text/plain": [
       "<IPython.core.display.HTML object>"
      ]
     },
     "metadata": {},
     "output_type": "display_data"
    },
    {
     "data": {
      "text/html": [
       "<a href='https://ggoh-staging-dot-encyclopedia-251300.wl.r.appspot.com/models/contrastive_rn50/image_block_4_2_Add_6_0/740' target='_blank'>740</a> -> 0.959259033203125\n"
      ],
      "text/plain": [
       "<IPython.core.display.HTML object>"
      ]
     },
     "metadata": {},
     "output_type": "display_data"
    },
    {
     "data": {
      "text/html": [
       "<a href='https://ggoh-staging-dot-encyclopedia-251300.wl.r.appspot.com/models/contrastive_rn50/image_block_4_2_Add_6_0/668' target='_blank'>668</a> -> 0.785888671875\n"
      ],
      "text/plain": [
       "<IPython.core.display.HTML object>"
      ]
     },
     "metadata": {},
     "output_type": "display_data"
    },
    {
     "data": {
      "text/html": [
       "<a href='https://ggoh-staging-dot-encyclopedia-251300.wl.r.appspot.com/models/contrastive_rn50/image_block_4_2_Add_6_0/915' target='_blank'>915</a> -> 0.5791015625\n"
      ],
      "text/plain": [
       "<IPython.core.display.HTML object>"
      ]
     },
     "metadata": {},
     "output_type": "display_data"
    },
    {
     "name": "stdout",
     "output_type": "stream",
     "text": [
      "Word: milk\n",
      "Number of channels: 5\n",
      "\n",
      "Top activating channels:\n"
     ]
    },
    {
     "data": {
      "text/html": [
       "<a href='https://ggoh-staging-dot-encyclopedia-251300.wl.r.appspot.com/models/contrastive_rn50/image_block_4_2_Add_6_0/740' target='_blank'>740</a> -> 1.290802001953125\n"
      ],
      "text/plain": [
       "<IPython.core.display.HTML object>"
      ]
     },
     "metadata": {},
     "output_type": "display_data"
    },
    {
     "data": {
      "text/html": [
       "<a href='https://ggoh-staging-dot-encyclopedia-251300.wl.r.appspot.com/models/contrastive_rn50/image_block_4_2_Add_6_0/20' target='_blank'>20</a> -> 0.8172760009765625\n"
      ],
      "text/plain": [
       "<IPython.core.display.HTML object>"
      ]
     },
     "metadata": {},
     "output_type": "display_data"
    },
    {
     "data": {
      "text/html": [
       "<a href='https://ggoh-staging-dot-encyclopedia-251300.wl.r.appspot.com/models/contrastive_rn50/image_block_4_2_Add_6_0/1854' target='_blank'>1854</a> -> 0.78662109375\n"
      ],
      "text/plain": [
       "<IPython.core.display.HTML object>"
      ]
     },
     "metadata": {},
     "output_type": "display_data"
    },
    {
     "data": {
      "text/html": [
       "<a href='https://ggoh-staging-dot-encyclopedia-251300.wl.r.appspot.com/models/contrastive_rn50/image_block_4_2_Add_6_0/1817' target='_blank'>1817</a> -> 0.6503448486328125\n"
      ],
      "text/plain": [
       "<IPython.core.display.HTML object>"
      ]
     },
     "metadata": {},
     "output_type": "display_data"
    },
    {
     "data": {
      "text/html": [
       "<a href='https://ggoh-staging-dot-encyclopedia-251300.wl.r.appspot.com/models/contrastive_rn50/image_block_4_2_Add_6_0/1018' target='_blank'>1018</a> -> 0.64404296875\n"
      ],
      "text/plain": [
       "<IPython.core.display.HTML object>"
      ]
     },
     "metadata": {},
     "output_type": "display_data"
    },
    {
     "name": "stdout",
     "output_type": "stream",
     "text": [
      "Word: egg\n",
      "Number of channels: 5\n",
      "\n",
      "Top activating channels:\n"
     ]
    },
    {
     "data": {
      "text/html": [
       "<a href='https://ggoh-staging-dot-encyclopedia-251300.wl.r.appspot.com/models/contrastive_rn50/image_block_4_2_Add_6_0/740' target='_blank'>740</a> -> 1.224395751953125\n"
      ],
      "text/plain": [
       "<IPython.core.display.HTML object>"
      ]
     },
     "metadata": {},
     "output_type": "display_data"
    },
    {
     "data": {
      "text/html": [
       "<a href='https://ggoh-staging-dot-encyclopedia-251300.wl.r.appspot.com/models/contrastive_rn50/image_block_4_2_Add_6_0/490' target='_blank'>490</a> -> 0.599456787109375\n"
      ],
      "text/plain": [
       "<IPython.core.display.HTML object>"
      ]
     },
     "metadata": {},
     "output_type": "display_data"
    },
    {
     "data": {
      "text/html": [
       "<a href='https://ggoh-staging-dot-encyclopedia-251300.wl.r.appspot.com/models/contrastive_rn50/image_block_4_2_Add_6_0/443' target='_blank'>443</a> -> 0.57080078125\n"
      ],
      "text/plain": [
       "<IPython.core.display.HTML object>"
      ]
     },
     "metadata": {},
     "output_type": "display_data"
    },
    {
     "data": {
      "text/html": [
       "<a href='https://ggoh-staging-dot-encyclopedia-251300.wl.r.appspot.com/models/contrastive_rn50/image_block_4_2_Add_6_0/1020' target='_blank'>1020</a> -> 0.440673828125\n"
      ],
      "text/plain": [
       "<IPython.core.display.HTML object>"
      ]
     },
     "metadata": {},
     "output_type": "display_data"
    },
    {
     "data": {
      "text/html": [
       "<a href='https://ggoh-staging-dot-encyclopedia-251300.wl.r.appspot.com/models/contrastive_rn50/image_block_4_2_Add_6_0/1094' target='_blank'>1094</a> -> 0.42217254638671875\n"
      ],
      "text/plain": [
       "<IPython.core.display.HTML object>"
      ]
     },
     "metadata": {},
     "output_type": "display_data"
    },
    {
     "name": "stdout",
     "output_type": "stream",
     "text": [
      "Word: breakfast\n",
      "Number of channels: 5\n",
      "\n",
      "Top activating channels:\n"
     ]
    },
    {
     "data": {
      "text/html": [
       "<a href='https://ggoh-staging-dot-encyclopedia-251300.wl.r.appspot.com/models/contrastive_rn50/image_block_4_2_Add_6_0/668' target='_blank'>668</a> -> 1.305419921875\n"
      ],
      "text/plain": [
       "<IPython.core.display.HTML object>"
      ]
     },
     "metadata": {},
     "output_type": "display_data"
    },
    {
     "data": {
      "text/html": [
       "<a href='https://ggoh-staging-dot-encyclopedia-251300.wl.r.appspot.com/models/contrastive_rn50/image_block_4_2_Add_6_0/1728' target='_blank'>1728</a> -> 0.99560546875\n"
      ],
      "text/plain": [
       "<IPython.core.display.HTML object>"
      ]
     },
     "metadata": {},
     "output_type": "display_data"
    },
    {
     "data": {
      "text/html": [
       "<a href='https://ggoh-staging-dot-encyclopedia-251300.wl.r.appspot.com/models/contrastive_rn50/image_block_4_2_Add_6_0/740' target='_blank'>740</a> -> 0.920196533203125\n"
      ],
      "text/plain": [
       "<IPython.core.display.HTML object>"
      ]
     },
     "metadata": {},
     "output_type": "display_data"
    },
    {
     "data": {
      "text/html": [
       "<a href='https://ggoh-staging-dot-encyclopedia-251300.wl.r.appspot.com/models/contrastive_rn50/image_block_4_2_Add_6_0/1740' target='_blank'>1740</a> -> 0.7802734375\n"
      ],
      "text/plain": [
       "<IPython.core.display.HTML object>"
      ]
     },
     "metadata": {},
     "output_type": "display_data"
    },
    {
     "data": {
      "text/html": [
       "<a href='https://ggoh-staging-dot-encyclopedia-251300.wl.r.appspot.com/models/contrastive_rn50/image_block_4_2_Add_6_0/1208' target='_blank'>1208</a> -> 0.77716064453125\n"
      ],
      "text/plain": [
       "<IPython.core.display.HTML object>"
      ]
     },
     "metadata": {},
     "output_type": "display_data"
    },
    {
     "name": "stdout",
     "output_type": "stream",
     "text": [
      "Word: cake\n",
      "Number of channels: 5\n",
      "\n",
      "Top activating channels:\n"
     ]
    },
    {
     "data": {
      "text/html": [
       "<a href='https://ggoh-staging-dot-encyclopedia-251300.wl.r.appspot.com/models/contrastive_rn50/image_block_4_2_Add_6_0/740' target='_blank'>740</a> -> 1.161895751953125\n"
      ],
      "text/plain": [
       "<IPython.core.display.HTML object>"
      ]
     },
     "metadata": {},
     "output_type": "display_data"
    },
    {
     "data": {
      "text/html": [
       "<a href='https://ggoh-staging-dot-encyclopedia-251300.wl.r.appspot.com/models/contrastive_rn50/image_block_4_2_Add_6_0/1018' target='_blank'>1018</a> -> 0.8232421875\n"
      ],
      "text/plain": [
       "<IPython.core.display.HTML object>"
      ]
     },
     "metadata": {},
     "output_type": "display_data"
    },
    {
     "data": {
      "text/html": [
       "<a href='https://ggoh-staging-dot-encyclopedia-251300.wl.r.appspot.com/models/contrastive_rn50/image_block_4_2_Add_6_0/2043' target='_blank'>2043</a> -> 0.5739860534667969\n"
      ],
      "text/plain": [
       "<IPython.core.display.HTML object>"
      ]
     },
     "metadata": {},
     "output_type": "display_data"
    },
    {
     "data": {
      "text/html": [
       "<a href='https://ggoh-staging-dot-encyclopedia-251300.wl.r.appspot.com/models/contrastive_rn50/image_block_4_2_Add_6_0/20' target='_blank'>20</a> -> 0.5448150634765625\n"
      ],
      "text/plain": [
       "<IPython.core.display.HTML object>"
      ]
     },
     "metadata": {},
     "output_type": "display_data"
    },
    {
     "data": {
      "text/html": [
       "<a href='https://ggoh-staging-dot-encyclopedia-251300.wl.r.appspot.com/models/contrastive_rn50/image_block_4_2_Add_6_0/1740' target='_blank'>1740</a> -> 0.484375\n"
      ],
      "text/plain": [
       "<IPython.core.display.HTML object>"
      ]
     },
     "metadata": {},
     "output_type": "display_data"
    },
    {
     "name": "stdout",
     "output_type": "stream",
     "text": [
      "Word: pancake\n",
      "Number of channels: 4\n",
      "\n",
      "Top activating channels:\n"
     ]
    },
    {
     "data": {
      "text/html": [
       "<a href='https://ggoh-staging-dot-encyclopedia-251300.wl.r.appspot.com/models/contrastive_rn50/image_block_4_2_Add_6_0/1740' target='_blank'>1740</a> -> 1.2470703125\n"
      ],
      "text/plain": [
       "<IPython.core.display.HTML object>"
      ]
     },
     "metadata": {},
     "output_type": "display_data"
    },
    {
     "data": {
      "text/html": [
       "<a href='https://ggoh-staging-dot-encyclopedia-251300.wl.r.appspot.com/models/contrastive_rn50/image_block_4_2_Add_6_0/1018' target='_blank'>1018</a> -> 1.2421875\n"
      ],
      "text/plain": [
       "<IPython.core.display.HTML object>"
      ]
     },
     "metadata": {},
     "output_type": "display_data"
    },
    {
     "data": {
      "text/html": [
       "<a href='https://ggoh-staging-dot-encyclopedia-251300.wl.r.appspot.com/models/contrastive_rn50/image_block_4_2_Add_6_0/740' target='_blank'>740</a> -> 1.236114501953125\n"
      ],
      "text/plain": [
       "<IPython.core.display.HTML object>"
      ]
     },
     "metadata": {},
     "output_type": "display_data"
    },
    {
     "data": {
      "text/html": [
       "<a href='https://ggoh-staging-dot-encyclopedia-251300.wl.r.appspot.com/models/contrastive_rn50/image_block_4_2_Add_6_0/668' target='_blank'>668</a> -> 0.934326171875\n"
      ],
      "text/plain": [
       "<IPython.core.display.HTML object>"
      ]
     },
     "metadata": {},
     "output_type": "display_data"
    },
    {
     "name": "stdout",
     "output_type": "stream",
     "text": [
      "Word: pizza\n",
      "Number of channels: 5\n",
      "\n",
      "Top activating channels:\n"
     ]
    },
    {
     "data": {
      "text/html": [
       "<a href='https://ggoh-staging-dot-encyclopedia-251300.wl.r.appspot.com/models/contrastive_rn50/image_block_4_2_Add_6_0/1740' target='_blank'>1740</a> -> 1.6025390625\n"
      ],
      "text/plain": [
       "<IPython.core.display.HTML object>"
      ]
     },
     "metadata": {},
     "output_type": "display_data"
    },
    {
     "data": {
      "text/html": [
       "<a href='https://ggoh-staging-dot-encyclopedia-251300.wl.r.appspot.com/models/contrastive_rn50/image_block_4_2_Add_6_0/740' target='_blank'>740</a> -> 1.137481689453125\n"
      ],
      "text/plain": [
       "<IPython.core.display.HTML object>"
      ]
     },
     "metadata": {},
     "output_type": "display_data"
    },
    {
     "data": {
      "text/html": [
       "<a href='https://ggoh-staging-dot-encyclopedia-251300.wl.r.appspot.com/models/contrastive_rn50/image_block_4_2_Add_6_0/668' target='_blank'>668</a> -> 1.002685546875\n"
      ],
      "text/plain": [
       "<IPython.core.display.HTML object>"
      ]
     },
     "metadata": {},
     "output_type": "display_data"
    },
    {
     "data": {
      "text/html": [
       "<a href='https://ggoh-staging-dot-encyclopedia-251300.wl.r.appspot.com/models/contrastive_rn50/image_block_4_2_Add_6_0/889' target='_blank'>889</a> -> 0.93505859375\n"
      ],
      "text/plain": [
       "<IPython.core.display.HTML object>"
      ]
     },
     "metadata": {},
     "output_type": "display_data"
    },
    {
     "data": {
      "text/html": [
       "<a href='https://ggoh-staging-dot-encyclopedia-251300.wl.r.appspot.com/models/contrastive_rn50/image_block_4_2_Add_6_0/950' target='_blank'>950</a> -> 0.71771240234375\n"
      ],
      "text/plain": [
       "<IPython.core.display.HTML object>"
      ]
     },
     "metadata": {},
     "output_type": "display_data"
    },
    {
     "name": "stdout",
     "output_type": "stream",
     "text": [
      "Word: music\n",
      "Number of channels: 5\n",
      "\n",
      "Top activating channels:\n"
     ]
    },
    {
     "data": {
      "text/html": [
       "<a href='https://ggoh-staging-dot-encyclopedia-251300.wl.r.appspot.com/models/contrastive_rn50/image_block_4_2_Add_6_0/668' target='_blank'>668</a> -> 1.272216796875\n"
      ],
      "text/plain": [
       "<IPython.core.display.HTML object>"
      ]
     },
     "metadata": {},
     "output_type": "display_data"
    },
    {
     "data": {
      "text/html": [
       "<a href='https://ggoh-staging-dot-encyclopedia-251300.wl.r.appspot.com/models/contrastive_rn50/image_block_4_2_Add_6_0/176' target='_blank'>176</a> -> 0.90863037109375\n"
      ],
      "text/plain": [
       "<IPython.core.display.HTML object>"
      ]
     },
     "metadata": {},
     "output_type": "display_data"
    },
    {
     "data": {
      "text/html": [
       "<a href='https://ggoh-staging-dot-encyclopedia-251300.wl.r.appspot.com/models/contrastive_rn50/image_block_4_2_Add_6_0/1954' target='_blank'>1954</a> -> 0.8740234375\n"
      ],
      "text/plain": [
       "<IPython.core.display.HTML object>"
      ]
     },
     "metadata": {},
     "output_type": "display_data"
    },
    {
     "data": {
      "text/html": [
       "<a href='https://ggoh-staging-dot-encyclopedia-251300.wl.r.appspot.com/models/contrastive_rn50/image_block_4_2_Add_6_0/915' target='_blank'>915</a> -> 0.654296875\n"
      ],
      "text/plain": [
       "<IPython.core.display.HTML object>"
      ]
     },
     "metadata": {},
     "output_type": "display_data"
    },
    {
     "data": {
      "text/html": [
       "<a href='https://ggoh-staging-dot-encyclopedia-251300.wl.r.appspot.com/models/contrastive_rn50/image_block_4_2_Add_6_0/25' target='_blank'>25</a> -> 0.6356201171875\n"
      ],
      "text/plain": [
       "<IPython.core.display.HTML object>"
      ]
     },
     "metadata": {},
     "output_type": "display_data"
    },
    {
     "name": "stdout",
     "output_type": "stream",
     "text": [
      "Word: cat\n",
      "Number of channels: 5\n",
      "\n",
      "Top activating channels:\n"
     ]
    },
    {
     "data": {
      "text/html": [
       "<a href='https://ggoh-staging-dot-encyclopedia-251300.wl.r.appspot.com/models/contrastive_rn50/image_block_4_2_Add_6_0/740' target='_blank'>740</a> -> 0.749786376953125\n"
      ],
      "text/plain": [
       "<IPython.core.display.HTML object>"
      ]
     },
     "metadata": {},
     "output_type": "display_data"
    },
    {
     "data": {
      "text/html": [
       "<a href='https://ggoh-staging-dot-encyclopedia-251300.wl.r.appspot.com/models/contrastive_rn50/image_block_4_2_Add_6_0/1008' target='_blank'>1008</a> -> 0.6552734375\n"
      ],
      "text/plain": [
       "<IPython.core.display.HTML object>"
      ]
     },
     "metadata": {},
     "output_type": "display_data"
    },
    {
     "data": {
      "text/html": [
       "<a href='https://ggoh-staging-dot-encyclopedia-251300.wl.r.appspot.com/models/contrastive_rn50/image_block_4_2_Add_6_0/2043' target='_blank'>2043</a> -> 0.5534782409667969\n"
      ],
      "text/plain": [
       "<IPython.core.display.HTML object>"
      ]
     },
     "metadata": {},
     "output_type": "display_data"
    },
    {
     "data": {
      "text/html": [
       "<a href='https://ggoh-staging-dot-encyclopedia-251300.wl.r.appspot.com/models/contrastive_rn50/image_block_4_2_Add_6_0/479' target='_blank'>479</a> -> 0.50006103515625\n"
      ],
      "text/plain": [
       "<IPython.core.display.HTML object>"
      ]
     },
     "metadata": {},
     "output_type": "display_data"
    },
    {
     "data": {
      "text/html": [
       "<a href='https://ggoh-staging-dot-encyclopedia-251300.wl.r.appspot.com/models/contrastive_rn50/image_block_4_2_Add_6_0/1396' target='_blank'>1396</a> -> 0.4814453125\n"
      ],
      "text/plain": [
       "<IPython.core.display.HTML object>"
      ]
     },
     "metadata": {},
     "output_type": "display_data"
    },
    {
     "name": "stdout",
     "output_type": "stream",
     "text": [
      "Word: pet\n",
      "Number of channels: 5\n",
      "\n",
      "Top activating channels:\n"
     ]
    },
    {
     "data": {
      "text/html": [
       "<a href='https://ggoh-staging-dot-encyclopedia-251300.wl.r.appspot.com/models/contrastive_rn50/image_block_4_2_Add_6_0/1008' target='_blank'>1008</a> -> 0.751953125\n"
      ],
      "text/plain": [
       "<IPython.core.display.HTML object>"
      ]
     },
     "metadata": {},
     "output_type": "display_data"
    },
    {
     "data": {
      "text/html": [
       "<a href='https://ggoh-staging-dot-encyclopedia-251300.wl.r.appspot.com/models/contrastive_rn50/image_block_4_2_Add_6_0/740' target='_blank'>740</a> -> 0.667755126953125\n"
      ],
      "text/plain": [
       "<IPython.core.display.HTML object>"
      ]
     },
     "metadata": {},
     "output_type": "display_data"
    },
    {
     "data": {
      "text/html": [
       "<a href='https://ggoh-staging-dot-encyclopedia-251300.wl.r.appspot.com/models/contrastive_rn50/image_block_4_2_Add_6_0/188' target='_blank'>188</a> -> 0.646484375\n"
      ],
      "text/plain": [
       "<IPython.core.display.HTML object>"
      ]
     },
     "metadata": {},
     "output_type": "display_data"
    },
    {
     "data": {
      "text/html": [
       "<a href='https://ggoh-staging-dot-encyclopedia-251300.wl.r.appspot.com/models/contrastive_rn50/image_block_4_2_Add_6_0/1020' target='_blank'>1020</a> -> 0.504150390625\n"
      ],
      "text/plain": [
       "<IPython.core.display.HTML object>"
      ]
     },
     "metadata": {},
     "output_type": "display_data"
    },
    {
     "data": {
      "text/html": [
       "<a href='https://ggoh-staging-dot-encyclopedia-251300.wl.r.appspot.com/models/contrastive_rn50/image_block_4_2_Add_6_0/901' target='_blank'>901</a> -> 0.467926025390625\n"
      ],
      "text/plain": [
       "<IPython.core.display.HTML object>"
      ]
     },
     "metadata": {},
     "output_type": "display_data"
    },
    {
     "name": "stdout",
     "output_type": "stream",
     "text": [
      "Word: dog\n",
      "Number of channels: 5\n",
      "\n",
      "Top activating channels:\n"
     ]
    },
    {
     "data": {
      "text/html": [
       "<a href='https://ggoh-staging-dot-encyclopedia-251300.wl.r.appspot.com/models/contrastive_rn50/image_block_4_2_Add_6_0/740' target='_blank'>740</a> -> 0.743927001953125\n"
      ],
      "text/plain": [
       "<IPython.core.display.HTML object>"
      ]
     },
     "metadata": {},
     "output_type": "display_data"
    },
    {
     "data": {
      "text/html": [
       "<a href='https://ggoh-staging-dot-encyclopedia-251300.wl.r.appspot.com/models/contrastive_rn50/image_block_4_2_Add_6_0/540' target='_blank'>540</a> -> 0.6773834228515625\n"
      ],
      "text/plain": [
       "<IPython.core.display.HTML object>"
      ]
     },
     "metadata": {},
     "output_type": "display_data"
    },
    {
     "data": {
      "text/html": [
       "<a href='https://ggoh-staging-dot-encyclopedia-251300.wl.r.appspot.com/models/contrastive_rn50/image_block_4_2_Add_6_0/1008' target='_blank'>1008</a> -> 0.55322265625\n"
      ],
      "text/plain": [
       "<IPython.core.display.HTML object>"
      ]
     },
     "metadata": {},
     "output_type": "display_data"
    },
    {
     "data": {
      "text/html": [
       "<a href='https://ggoh-staging-dot-encyclopedia-251300.wl.r.appspot.com/models/contrastive_rn50/image_block_4_2_Add_6_0/1396' target='_blank'>1396</a> -> 0.5458984375\n"
      ],
      "text/plain": [
       "<IPython.core.display.HTML object>"
      ]
     },
     "metadata": {},
     "output_type": "display_data"
    },
    {
     "data": {
      "text/html": [
       "<a href='https://ggoh-staging-dot-encyclopedia-251300.wl.r.appspot.com/models/contrastive_rn50/image_block_4_2_Add_6_0/1095' target='_blank'>1095</a> -> 0.5404319763183594\n"
      ],
      "text/plain": [
       "<IPython.core.display.HTML object>"
      ]
     },
     "metadata": {},
     "output_type": "display_data"
    },
    {
     "name": "stdout",
     "output_type": "stream",
     "text": [
      "Word: kitten\n",
      "Number of channels: 5\n",
      "\n",
      "Top activating channels:\n"
     ]
    },
    {
     "data": {
      "text/html": [
       "<a href='https://ggoh-staging-dot-encyclopedia-251300.wl.r.appspot.com/models/contrastive_rn50/image_block_4_2_Add_6_0/52' target='_blank'>52</a> -> 0.7365050315856934\n"
      ],
      "text/plain": [
       "<IPython.core.display.HTML object>"
      ]
     },
     "metadata": {},
     "output_type": "display_data"
    },
    {
     "data": {
      "text/html": [
       "<a href='https://ggoh-staging-dot-encyclopedia-251300.wl.r.appspot.com/models/contrastive_rn50/image_block_4_2_Add_6_0/740' target='_blank'>740</a> -> 0.704376220703125\n"
      ],
      "text/plain": [
       "<IPython.core.display.HTML object>"
      ]
     },
     "metadata": {},
     "output_type": "display_data"
    },
    {
     "data": {
      "text/html": [
       "<a href='https://ggoh-staging-dot-encyclopedia-251300.wl.r.appspot.com/models/contrastive_rn50/image_block_4_2_Add_6_0/1778' target='_blank'>1778</a> -> 0.6142578125\n"
      ],
      "text/plain": [
       "<IPython.core.display.HTML object>"
      ]
     },
     "metadata": {},
     "output_type": "display_data"
    },
    {
     "data": {
      "text/html": [
       "<a href='https://ggoh-staging-dot-encyclopedia-251300.wl.r.appspot.com/models/contrastive_rn50/image_block_4_2_Add_6_0/479' target='_blank'>479</a> -> 0.59283447265625\n"
      ],
      "text/plain": [
       "<IPython.core.display.HTML object>"
      ]
     },
     "metadata": {},
     "output_type": "display_data"
    },
    {
     "data": {
      "text/html": [
       "<a href='https://ggoh-staging-dot-encyclopedia-251300.wl.r.appspot.com/models/contrastive_rn50/image_block_4_2_Add_6_0/1396' target='_blank'>1396</a> -> 0.53076171875\n"
      ],
      "text/plain": [
       "<IPython.core.display.HTML object>"
      ]
     },
     "metadata": {},
     "output_type": "display_data"
    },
    {
     "name": "stdout",
     "output_type": "stream",
     "text": [
      "Word: bird\n",
      "Number of channels: 5\n",
      "\n",
      "Top activating channels:\n"
     ]
    },
    {
     "data": {
      "text/html": [
       "<a href='https://ggoh-staging-dot-encyclopedia-251300.wl.r.appspot.com/models/contrastive_rn50/image_block_4_2_Add_6_0/740' target='_blank'>740</a> -> 0.632110595703125\n"
      ],
      "text/plain": [
       "<IPython.core.display.HTML object>"
      ]
     },
     "metadata": {},
     "output_type": "display_data"
    },
    {
     "data": {
      "text/html": [
       "<a href='https://ggoh-staging-dot-encyclopedia-251300.wl.r.appspot.com/models/contrastive_rn50/image_block_4_2_Add_6_0/1008' target='_blank'>1008</a> -> 0.61376953125\n"
      ],
      "text/plain": [
       "<IPython.core.display.HTML object>"
      ]
     },
     "metadata": {},
     "output_type": "display_data"
    },
    {
     "data": {
      "text/html": [
       "<a href='https://ggoh-staging-dot-encyclopedia-251300.wl.r.appspot.com/models/contrastive_rn50/image_block_4_2_Add_6_0/1034' target='_blank'>1034</a> -> 0.527679443359375\n"
      ],
      "text/plain": [
       "<IPython.core.display.HTML object>"
      ]
     },
     "metadata": {},
     "output_type": "display_data"
    },
    {
     "data": {
      "text/html": [
       "<a href='https://ggoh-staging-dot-encyclopedia-251300.wl.r.appspot.com/models/contrastive_rn50/image_block_4_2_Add_6_0/1102' target='_blank'>1102</a> -> 0.4756011962890625\n"
      ],
      "text/plain": [
       "<IPython.core.display.HTML object>"
      ]
     },
     "metadata": {},
     "output_type": "display_data"
    },
    {
     "data": {
      "text/html": [
       "<a href='https://ggoh-staging-dot-encyclopedia-251300.wl.r.appspot.com/models/contrastive_rn50/image_block_4_2_Add_6_0/1088' target='_blank'>1088</a> -> 0.464599609375\n"
      ],
      "text/plain": [
       "<IPython.core.display.HTML object>"
      ]
     },
     "metadata": {},
     "output_type": "display_data"
    },
    {
     "name": "stdout",
     "output_type": "stream",
     "text": [
      "Word: toast\n",
      "Number of channels: 5\n",
      "\n",
      "Top activating channels:\n"
     ]
    },
    {
     "data": {
      "text/html": [
       "<a href='https://ggoh-staging-dot-encyclopedia-251300.wl.r.appspot.com/models/contrastive_rn50/image_block_4_2_Add_6_0/740' target='_blank'>740</a> -> 0.934356689453125\n"
      ],
      "text/plain": [
       "<IPython.core.display.HTML object>"
      ]
     },
     "metadata": {},
     "output_type": "display_data"
    },
    {
     "data": {
      "text/html": [
       "<a href='https://ggoh-staging-dot-encyclopedia-251300.wl.r.appspot.com/models/contrastive_rn50/image_block_4_2_Add_6_0/1740' target='_blank'>1740</a> -> 0.71826171875\n"
      ],
      "text/plain": [
       "<IPython.core.display.HTML object>"
      ]
     },
     "metadata": {},
     "output_type": "display_data"
    },
    {
     "data": {
      "text/html": [
       "<a href='https://ggoh-staging-dot-encyclopedia-251300.wl.r.appspot.com/models/contrastive_rn50/image_block_4_2_Add_6_0/950' target='_blank'>950</a> -> 0.69671630859375\n"
      ],
      "text/plain": [
       "<IPython.core.display.HTML object>"
      ]
     },
     "metadata": {},
     "output_type": "display_data"
    },
    {
     "data": {
      "text/html": [
       "<a href='https://ggoh-staging-dot-encyclopedia-251300.wl.r.appspot.com/models/contrastive_rn50/image_block_4_2_Add_6_0/443' target='_blank'>443</a> -> 0.66650390625\n"
      ],
      "text/plain": [
       "<IPython.core.display.HTML object>"
      ]
     },
     "metadata": {},
     "output_type": "display_data"
    },
    {
     "data": {
      "text/html": [
       "<a href='https://ggoh-staging-dot-encyclopedia-251300.wl.r.appspot.com/models/contrastive_rn50/image_block_4_2_Add_6_0/1018' target='_blank'>1018</a> -> 0.634765625\n"
      ],
      "text/plain": [
       "<IPython.core.display.HTML object>"
      ]
     },
     "metadata": {},
     "output_type": "display_data"
    },
    {
     "name": "stdout",
     "output_type": "stream",
     "text": [
      "Word: ice cream\n",
      "Number of channels: 5\n",
      "\n",
      "Top activating channels:\n"
     ]
    },
    {
     "data": {
      "text/html": [
       "<a href='https://ggoh-staging-dot-encyclopedia-251300.wl.r.appspot.com/models/contrastive_rn50/image_block_4_2_Add_6_0/740' target='_blank'>740</a> -> 1.765411376953125\n"
      ],
      "text/plain": [
       "<IPython.core.display.HTML object>"
      ]
     },
     "metadata": {},
     "output_type": "display_data"
    },
    {
     "data": {
      "text/html": [
       "<a href='https://ggoh-staging-dot-encyclopedia-251300.wl.r.appspot.com/models/contrastive_rn50/image_block_4_2_Add_6_0/1018' target='_blank'>1018</a> -> 1.1298828125\n"
      ],
      "text/plain": [
       "<IPython.core.display.HTML object>"
      ]
     },
     "metadata": {},
     "output_type": "display_data"
    },
    {
     "data": {
      "text/html": [
       "<a href='https://ggoh-staging-dot-encyclopedia-251300.wl.r.appspot.com/models/contrastive_rn50/image_block_4_2_Add_6_0/1740' target='_blank'>1740</a> -> 0.8759765625\n"
      ],
      "text/plain": [
       "<IPython.core.display.HTML object>"
      ]
     },
     "metadata": {},
     "output_type": "display_data"
    },
    {
     "data": {
      "text/html": [
       "<a href='https://ggoh-staging-dot-encyclopedia-251300.wl.r.appspot.com/models/contrastive_rn50/image_block_4_2_Add_6_0/702' target='_blank'>702</a> -> 0.776214599609375\n"
      ],
      "text/plain": [
       "<IPython.core.display.HTML object>"
      ]
     },
     "metadata": {},
     "output_type": "display_data"
    },
    {
     "data": {
      "text/html": [
       "<a href='https://ggoh-staging-dot-encyclopedia-251300.wl.r.appspot.com/models/contrastive_rn50/image_block_4_2_Add_6_0/1728' target='_blank'>1728</a> -> 0.76513671875\n"
      ],
      "text/plain": [
       "<IPython.core.display.HTML object>"
      ]
     },
     "metadata": {},
     "output_type": "display_data"
    },
    {
     "name": "stdout",
     "output_type": "stream",
     "text": [
      "Word: tea\n",
      "Number of channels: 5\n",
      "\n",
      "Top activating channels:\n"
     ]
    },
    {
     "data": {
      "text/html": [
       "<a href='https://ggoh-staging-dot-encyclopedia-251300.wl.r.appspot.com/models/contrastive_rn50/image_block_4_2_Add_6_0/761' target='_blank'>761</a> -> 0.963623046875\n"
      ],
      "text/plain": [
       "<IPython.core.display.HTML object>"
      ]
     },
     "metadata": {},
     "output_type": "display_data"
    },
    {
     "data": {
      "text/html": [
       "<a href='https://ggoh-staging-dot-encyclopedia-251300.wl.r.appspot.com/models/contrastive_rn50/image_block_4_2_Add_6_0/215' target='_blank'>215</a> -> 0.7122039794921875\n"
      ],
      "text/plain": [
       "<IPython.core.display.HTML object>"
      ]
     },
     "metadata": {},
     "output_type": "display_data"
    },
    {
     "data": {
      "text/html": [
       "<a href='https://ggoh-staging-dot-encyclopedia-251300.wl.r.appspot.com/models/contrastive_rn50/image_block_4_2_Add_6_0/740' target='_blank'>740</a> -> 0.667266845703125\n"
      ],
      "text/plain": [
       "<IPython.core.display.HTML object>"
      ]
     },
     "metadata": {},
     "output_type": "display_data"
    },
    {
     "data": {
      "text/html": [
       "<a href='https://ggoh-staging-dot-encyclopedia-251300.wl.r.appspot.com/models/contrastive_rn50/image_block_4_2_Add_6_0/1018' target='_blank'>1018</a> -> 0.607421875\n"
      ],
      "text/plain": [
       "<IPython.core.display.HTML object>"
      ]
     },
     "metadata": {},
     "output_type": "display_data"
    },
    {
     "data": {
      "text/html": [
       "<a href='https://ggoh-staging-dot-encyclopedia-251300.wl.r.appspot.com/models/contrastive_rn50/image_block_4_2_Add_6_0/1174' target='_blank'>1174</a> -> 0.57513427734375\n"
      ],
      "text/plain": [
       "<IPython.core.display.HTML object>"
      ]
     },
     "metadata": {},
     "output_type": "display_data"
    },
    {
     "name": "stdout",
     "output_type": "stream",
     "text": [
      "Word: water\n",
      "Number of channels: 5\n",
      "\n",
      "Top activating channels:\n"
     ]
    },
    {
     "data": {
      "text/html": [
       "<a href='https://ggoh-staging-dot-encyclopedia-251300.wl.r.appspot.com/models/contrastive_rn50/image_block_4_2_Add_6_0/740' target='_blank'>740</a> -> 1.017364501953125\n"
      ],
      "text/plain": [
       "<IPython.core.display.HTML object>"
      ]
     },
     "metadata": {},
     "output_type": "display_data"
    },
    {
     "data": {
      "text/html": [
       "<a href='https://ggoh-staging-dot-encyclopedia-251300.wl.r.appspot.com/models/contrastive_rn50/image_block_4_2_Add_6_0/1020' target='_blank'>1020</a> -> 0.837646484375\n"
      ],
      "text/plain": [
       "<IPython.core.display.HTML object>"
      ]
     },
     "metadata": {},
     "output_type": "display_data"
    },
    {
     "data": {
      "text/html": [
       "<a href='https://ggoh-staging-dot-encyclopedia-251300.wl.r.appspot.com/models/contrastive_rn50/image_block_4_2_Add_6_0/1224' target='_blank'>1224</a> -> 0.688568115234375\n"
      ],
      "text/plain": [
       "<IPython.core.display.HTML object>"
      ]
     },
     "metadata": {},
     "output_type": "display_data"
    },
    {
     "data": {
      "text/html": [
       "<a href='https://ggoh-staging-dot-encyclopedia-251300.wl.r.appspot.com/models/contrastive_rn50/image_block_4_2_Add_6_0/229' target='_blank'>229</a> -> 0.675537109375\n"
      ],
      "text/plain": [
       "<IPython.core.display.HTML object>"
      ]
     },
     "metadata": {},
     "output_type": "display_data"
    },
    {
     "data": {
      "text/html": [
       "<a href='https://ggoh-staging-dot-encyclopedia-251300.wl.r.appspot.com/models/contrastive_rn50/image_block_4_2_Add_6_0/53' target='_blank'>53</a> -> 0.6129150390625\n"
      ],
      "text/plain": [
       "<IPython.core.display.HTML object>"
      ]
     },
     "metadata": {},
     "output_type": "display_data"
    },
    {
     "name": "stdout",
     "output_type": "stream",
     "text": [
      "Word: ocean\n",
      "Number of channels: 5\n",
      "\n",
      "Top activating channels:\n"
     ]
    },
    {
     "data": {
      "text/html": [
       "<a href='https://ggoh-staging-dot-encyclopedia-251300.wl.r.appspot.com/models/contrastive_rn50/image_block_4_2_Add_6_0/737' target='_blank'>737</a> -> 0.77490234375\n"
      ],
      "text/plain": [
       "<IPython.core.display.HTML object>"
      ]
     },
     "metadata": {},
     "output_type": "display_data"
    },
    {
     "data": {
      "text/html": [
       "<a href='https://ggoh-staging-dot-encyclopedia-251300.wl.r.appspot.com/models/contrastive_rn50/image_block_4_2_Add_6_0/248' target='_blank'>248</a> -> 0.7567138671875\n"
      ],
      "text/plain": [
       "<IPython.core.display.HTML object>"
      ]
     },
     "metadata": {},
     "output_type": "display_data"
    },
    {
     "data": {
      "text/html": [
       "<a href='https://ggoh-staging-dot-encyclopedia-251300.wl.r.appspot.com/models/contrastive_rn50/image_block_4_2_Add_6_0/740' target='_blank'>740</a> -> 0.734161376953125\n"
      ],
      "text/plain": [
       "<IPython.core.display.HTML object>"
      ]
     },
     "metadata": {},
     "output_type": "display_data"
    },
    {
     "data": {
      "text/html": [
       "<a href='https://ggoh-staging-dot-encyclopedia-251300.wl.r.appspot.com/models/contrastive_rn50/image_block_4_2_Add_6_0/286' target='_blank'>286</a> -> 0.705078125\n"
      ],
      "text/plain": [
       "<IPython.core.display.HTML object>"
      ]
     },
     "metadata": {},
     "output_type": "display_data"
    },
    {
     "data": {
      "text/html": [
       "<a href='https://ggoh-staging-dot-encyclopedia-251300.wl.r.appspot.com/models/contrastive_rn50/image_block_4_2_Add_6_0/1396' target='_blank'>1396</a> -> 0.6552734375\n"
      ],
      "text/plain": [
       "<IPython.core.display.HTML object>"
      ]
     },
     "metadata": {},
     "output_type": "display_data"
    },
    {
     "name": "stdout",
     "output_type": "stream",
     "text": [
      "Word: sea\n",
      "Number of channels: 5\n",
      "\n",
      "Top activating channels:\n"
     ]
    },
    {
     "data": {
      "text/html": [
       "<a href='https://ggoh-staging-dot-encyclopedia-251300.wl.r.appspot.com/models/contrastive_rn50/image_block_4_2_Add_6_0/893' target='_blank'>893</a> -> 0.567138671875\n"
      ],
      "text/plain": [
       "<IPython.core.display.HTML object>"
      ]
     },
     "metadata": {},
     "output_type": "display_data"
    },
    {
     "data": {
      "text/html": [
       "<a href='https://ggoh-staging-dot-encyclopedia-251300.wl.r.appspot.com/models/contrastive_rn50/image_block_4_2_Add_6_0/740' target='_blank'>740</a> -> 0.543243408203125\n"
      ],
      "text/plain": [
       "<IPython.core.display.HTML object>"
      ]
     },
     "metadata": {},
     "output_type": "display_data"
    },
    {
     "data": {
      "text/html": [
       "<a href='https://ggoh-staging-dot-encyclopedia-251300.wl.r.appspot.com/models/contrastive_rn50/image_block_4_2_Add_6_0/2014' target='_blank'>2014</a> -> 0.534423828125\n"
      ],
      "text/plain": [
       "<IPython.core.display.HTML object>"
      ]
     },
     "metadata": {},
     "output_type": "display_data"
    },
    {
     "data": {
      "text/html": [
       "<a href='https://ggoh-staging-dot-encyclopedia-251300.wl.r.appspot.com/models/contrastive_rn50/image_block_4_2_Add_6_0/678' target='_blank'>678</a> -> 0.4375\n"
      ],
      "text/plain": [
       "<IPython.core.display.HTML object>"
      ]
     },
     "metadata": {},
     "output_type": "display_data"
    },
    {
     "data": {
      "text/html": [
       "<a href='https://ggoh-staging-dot-encyclopedia-251300.wl.r.appspot.com/models/contrastive_rn50/image_block_4_2_Add_6_0/1865' target='_blank'>1865</a> -> 0.421875\n"
      ],
      "text/plain": [
       "<IPython.core.display.HTML object>"
      ]
     },
     "metadata": {},
     "output_type": "display_data"
    },
    {
     "name": "stdout",
     "output_type": "stream",
     "text": [
      "Word: river\n",
      "Number of channels: 2\n",
      "\n",
      "Top activating channels:\n"
     ]
    },
    {
     "data": {
      "text/html": [
       "<a href='https://ggoh-staging-dot-encyclopedia-251300.wl.r.appspot.com/models/contrastive_rn50/image_block_4_2_Add_6_0/740' target='_blank'>740</a> -> 0.922637939453125\n"
      ],
      "text/plain": [
       "<IPython.core.display.HTML object>"
      ]
     },
     "metadata": {},
     "output_type": "display_data"
    },
    {
     "data": {
      "text/html": [
       "<a href='https://ggoh-staging-dot-encyclopedia-251300.wl.r.appspot.com/models/contrastive_rn50/image_block_4_2_Add_6_0/668' target='_blank'>668</a> -> 0.818115234375\n"
      ],
      "text/plain": [
       "<IPython.core.display.HTML object>"
      ]
     },
     "metadata": {},
     "output_type": "display_data"
    },
    {
     "name": "stdout",
     "output_type": "stream",
     "text": [
      "Word: california\n",
      "Number of channels: 5\n",
      "\n",
      "Top activating channels:\n"
     ]
    },
    {
     "data": {
      "text/html": [
       "<a href='https://ggoh-staging-dot-encyclopedia-251300.wl.r.appspot.com/models/contrastive_rn50/image_block_4_2_Add_6_0/1159' target='_blank'>1159</a> -> 1.6814911365509033\n"
      ],
      "text/plain": [
       "<IPython.core.display.HTML object>"
      ]
     },
     "metadata": {},
     "output_type": "display_data"
    },
    {
     "data": {
      "text/html": [
       "<a href='https://ggoh-staging-dot-encyclopedia-251300.wl.r.appspot.com/models/contrastive_rn50/image_block_4_2_Add_6_0/668' target='_blank'>668</a> -> 1.481201171875\n"
      ],
      "text/plain": [
       "<IPython.core.display.HTML object>"
      ]
     },
     "metadata": {},
     "output_type": "display_data"
    },
    {
     "data": {
      "text/html": [
       "<a href='https://ggoh-staging-dot-encyclopedia-251300.wl.r.appspot.com/models/contrastive_rn50/image_block_4_2_Add_6_0/883' target='_blank'>883</a> -> 1.3232421875\n"
      ],
      "text/plain": [
       "<IPython.core.display.HTML object>"
      ]
     },
     "metadata": {},
     "output_type": "display_data"
    },
    {
     "data": {
      "text/html": [
       "<a href='https://ggoh-staging-dot-encyclopedia-251300.wl.r.appspot.com/models/contrastive_rn50/image_block_4_2_Add_6_0/320' target='_blank'>320</a> -> 1.134958267211914\n"
      ],
      "text/plain": [
       "<IPython.core.display.HTML object>"
      ]
     },
     "metadata": {},
     "output_type": "display_data"
    },
    {
     "data": {
      "text/html": [
       "<a href='https://ggoh-staging-dot-encyclopedia-251300.wl.r.appspot.com/models/contrastive_rn50/image_block_4_2_Add_6_0/583' target='_blank'>583</a> -> 0.8760986328125\n"
      ],
      "text/plain": [
       "<IPython.core.display.HTML object>"
      ]
     },
     "metadata": {},
     "output_type": "display_data"
    },
    {
     "name": "stdout",
     "output_type": "stream",
     "text": [
      "Word: state\n",
      "Number of channels: 5\n",
      "\n",
      "Top activating channels:\n"
     ]
    },
    {
     "data": {
      "text/html": [
       "<a href='https://ggoh-staging-dot-encyclopedia-251300.wl.r.appspot.com/models/contrastive_rn50/image_block_4_2_Add_6_0/216' target='_blank'>216</a> -> 0.91259765625\n"
      ],
      "text/plain": [
       "<IPython.core.display.HTML object>"
      ]
     },
     "metadata": {},
     "output_type": "display_data"
    },
    {
     "data": {
      "text/html": [
       "<a href='https://ggoh-staging-dot-encyclopedia-251300.wl.r.appspot.com/models/contrastive_rn50/image_block_4_2_Add_6_0/209' target='_blank'>209</a> -> 0.6806640625\n"
      ],
      "text/plain": [
       "<IPython.core.display.HTML object>"
      ]
     },
     "metadata": {},
     "output_type": "display_data"
    },
    {
     "data": {
      "text/html": [
       "<a href='https://ggoh-staging-dot-encyclopedia-251300.wl.r.appspot.com/models/contrastive_rn50/image_block_4_2_Add_6_0/918' target='_blank'>918</a> -> 0.6481475830078125\n"
      ],
      "text/plain": [
       "<IPython.core.display.HTML object>"
      ]
     },
     "metadata": {},
     "output_type": "display_data"
    },
    {
     "data": {
      "text/html": [
       "<a href='https://ggoh-staging-dot-encyclopedia-251300.wl.r.appspot.com/models/contrastive_rn50/image_block_4_2_Add_6_0/668' target='_blank'>668</a> -> 0.464599609375\n"
      ],
      "text/plain": [
       "<IPython.core.display.HTML object>"
      ]
     },
     "metadata": {},
     "output_type": "display_data"
    },
    {
     "data": {
      "text/html": [
       "<a href='https://ggoh-staging-dot-encyclopedia-251300.wl.r.appspot.com/models/contrastive_rn50/image_block_4_2_Add_6_0/1871' target='_blank'>1871</a> -> 0.45996856689453125\n"
      ],
      "text/plain": [
       "<IPython.core.display.HTML object>"
      ]
     },
     "metadata": {},
     "output_type": "display_data"
    },
    {
     "name": "stdout",
     "output_type": "stream",
     "text": [
      "Word: canada\n",
      "Number of channels: 5\n",
      "\n",
      "Top activating channels:\n"
     ]
    },
    {
     "data": {
      "text/html": [
       "<a href='https://ggoh-staging-dot-encyclopedia-251300.wl.r.appspot.com/models/contrastive_rn50/image_block_4_2_Add_6_0/668' target='_blank'>668</a> -> 1.533935546875\n"
      ],
      "text/plain": [
       "<IPython.core.display.HTML object>"
      ]
     },
     "metadata": {},
     "output_type": "display_data"
    },
    {
     "data": {
      "text/html": [
       "<a href='https://ggoh-staging-dot-encyclopedia-251300.wl.r.appspot.com/models/contrastive_rn50/image_block_4_2_Add_6_0/320' target='_blank'>320</a> -> 1.091989517211914\n"
      ],
      "text/plain": [
       "<IPython.core.display.HTML object>"
      ]
     },
     "metadata": {},
     "output_type": "display_data"
    },
    {
     "data": {
      "text/html": [
       "<a href='https://ggoh-staging-dot-encyclopedia-251300.wl.r.appspot.com/models/contrastive_rn50/image_block_4_2_Add_6_0/883' target='_blank'>883</a> -> 1.0244140625\n"
      ],
      "text/plain": [
       "<IPython.core.display.HTML object>"
      ]
     },
     "metadata": {},
     "output_type": "display_data"
    },
    {
     "data": {
      "text/html": [
       "<a href='https://ggoh-staging-dot-encyclopedia-251300.wl.r.appspot.com/models/contrastive_rn50/image_block_4_2_Add_6_0/915' target='_blank'>915</a> -> 0.97802734375\n"
      ],
      "text/plain": [
       "<IPython.core.display.HTML object>"
      ]
     },
     "metadata": {},
     "output_type": "display_data"
    },
    {
     "data": {
      "text/html": [
       "<a href='https://ggoh-staging-dot-encyclopedia-251300.wl.r.appspot.com/models/contrastive_rn50/image_block_4_2_Add_6_0/1170' target='_blank'>1170</a> -> 0.87939453125\n"
      ],
      "text/plain": [
       "<IPython.core.display.HTML object>"
      ]
     },
     "metadata": {},
     "output_type": "display_data"
    },
    {
     "name": "stdout",
     "output_type": "stream",
     "text": [
      "Word: pumpkin\n",
      "Number of channels: 5\n",
      "\n",
      "Top activating channels:\n"
     ]
    },
    {
     "data": {
      "text/html": [
       "<a href='https://ggoh-staging-dot-encyclopedia-251300.wl.r.appspot.com/models/contrastive_rn50/image_block_4_2_Add_6_0/740' target='_blank'>740</a> -> 1.678497314453125\n"
      ],
      "text/plain": [
       "<IPython.core.display.HTML object>"
      ]
     },
     "metadata": {},
     "output_type": "display_data"
    },
    {
     "data": {
      "text/html": [
       "<a href='https://ggoh-staging-dot-encyclopedia-251300.wl.r.appspot.com/models/contrastive_rn50/image_block_4_2_Add_6_0/1396' target='_blank'>1396</a> -> 0.8701171875\n"
      ],
      "text/plain": [
       "<IPython.core.display.HTML object>"
      ]
     },
     "metadata": {},
     "output_type": "display_data"
    },
    {
     "data": {
      "text/html": [
       "<a href='https://ggoh-staging-dot-encyclopedia-251300.wl.r.appspot.com/models/contrastive_rn50/image_block_4_2_Add_6_0/668' target='_blank'>668</a> -> 0.801513671875\n"
      ],
      "text/plain": [
       "<IPython.core.display.HTML object>"
      ]
     },
     "metadata": {},
     "output_type": "display_data"
    },
    {
     "data": {
      "text/html": [
       "<a href='https://ggoh-staging-dot-encyclopedia-251300.wl.r.appspot.com/models/contrastive_rn50/image_block_4_2_Add_6_0/20' target='_blank'>20</a> -> 0.7000885009765625\n"
      ],
      "text/plain": [
       "<IPython.core.display.HTML object>"
      ]
     },
     "metadata": {},
     "output_type": "display_data"
    },
    {
     "data": {
      "text/html": [
       "<a href='https://ggoh-staging-dot-encyclopedia-251300.wl.r.appspot.com/models/contrastive_rn50/image_block_4_2_Add_6_0/1728' target='_blank'>1728</a> -> 0.6806640625\n"
      ],
      "text/plain": [
       "<IPython.core.display.HTML object>"
      ]
     },
     "metadata": {},
     "output_type": "display_data"
    }
   ],
   "source": [
    "word = input(\"Word: \")\n",
    "\n",
    "while (word != \"!q\"):\n",
    "    num_channels = int(input(\"Number of channels: \"))\n",
    "\n",
    "    layer = activations_tool.get_layer(4, 2, 6)\n",
    "    word_img = rasterize_text(word)\n",
    "    baseline_img = rasterize_text(\"eeeee\")\n",
    "\n",
    "    act_difs = activations_tool.channel_difference_engine(layer, word_img, baseline_img)\n",
    "\n",
    "    print(\"\\nTop activating channels:\")\n",
    "    top_channels = list(act_difs.items())[:num_channels]\n",
    "    for channel, act in top_channels:\n",
    "        display(HTML(f\"<a href='https://ggoh-staging-dot-encyclopedia-251300.wl.r.appspot.com/models/contrastive_rn50/image_block_4_2_Add_6_0/{channel}' target='_blank'>{channel}</a> -> {act}\\n\"))\n",
    "        \n",
    "    time.sleep(1)\n",
    "    word = input(\"Word: \")"
   ]
  },
  {
   "cell_type": "code",
   "execution_count": null,
   "id": "finished-thought",
   "metadata": {},
   "outputs": [],
   "source": []
  }
 ],
 "metadata": {
  "kernelspec": {
   "display_name": "Python 3",
   "language": "python",
   "name": "python3"
  },
  "language_info": {
   "codemirror_mode": {
    "name": "ipython",
    "version": 3
   },
   "file_extension": ".py",
   "mimetype": "text/x-python",
   "name": "python",
   "nbconvert_exporter": "python",
   "pygments_lexer": "ipython3",
   "version": "3.7.9"
  }
 },
 "nbformat": 4,
 "nbformat_minor": 5
}
