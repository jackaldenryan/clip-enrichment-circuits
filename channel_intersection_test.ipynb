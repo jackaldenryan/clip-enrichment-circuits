{
 "cells": [
  {
   "cell_type": "code",
   "execution_count": 2,
   "metadata": {},
   "outputs": [],
   "source": [
    "from input_generation import rasterize_text\n",
    "import activations_tool as activations_tool\n",
    "import matplotlib.pyplot as plt\n",
    "import numpy as np\n",
    "from PIL import Image"
   ]
  },
  {
   "cell_type": "code",
   "execution_count": 3,
   "metadata": {},
   "outputs": [
    {
     "name": "stdout",
     "output_type": "stream",
     "text": [
      "Top ten activating channels\n",
      "channel 678: activation 4.375\n",
      "channel 510: activation 3.78125\n",
      "channel 1052: activation 3.193359375\n",
      "channel 1750: activation 2.8203125\n",
      "channel 895: activation 2.36328125\n",
      "channel 710: activation 2.2265625\n",
      "channel 1385: activation 2.119140625\n",
      "channel 1286: activation 1.984375\n",
      "channel 1200: activation 1.9365234375\n",
      "channel 1076: activation 1.7822265625\n",
      "\n",
      "---\n",
      "\n",
      "Histogram of intersection\n"
     ]
    },
    {
     "data": {
      "image/png": "[encoded data removed]",
      "text/plain": [
       "<Figure size 432x288 with 1 Axes>"
      ]
     },
     "metadata": {
      "needs_background": "light"
     },
     "output_type": "display_data"
    }
   ],
   "source": [
    "trump_img = img_4_2_5_1138 = Image.open('datasets/test_images/trump.png')\n",
    "trump_txt_img = rasterize_text(\"Trump\")\n",
    "\n",
    "layer = activations_tool.get_layer(4, 2, 6)\n",
    "\n",
    "intersection = activations_tool.channel_intersection(layer, trump_img, trump_txt_img)\n",
    "\n",
    "print(\"Top ten activating channels\")\n",
    "top_ten = list(intersection.items())[:10]\n",
    "for channel, act in top_ten:\n",
    "    print(f\"channel {channel}: activation {act}\")\n",
    "  \n",
    "print(\"\\n---\\n\")\n",
    "\n",
    "acts1 = activations_tool.mean_channel_acts(layer, trump_img)\n",
    "acts2 = activations_tool.mean_channel_acts(layer, trump_txt_img)\n",
    "mins = np.minimum(acts1, acts2)\n",
    "\n",
    "print(\"Histogram of intersection\")\n",
    "plt.hist(mins, bins=100)\n",
    "plt.show()\n",
    "\n",
    "# TODO: automated comparison of intersection to subtraction?"
   ]
  },
  {
   "cell_type": "code",
   "execution_count": null,
   "metadata": {},
   "outputs": [],
   "source": []
  }
 ],
 "metadata": {
  "kernelspec": {
   "display_name": "Python 3",
   "language": "python",
   "name": "python3"
  },
  "language_info": {
   "codemirror_mode": {
    "name": "ipython",
    "version": 3
   },
   "file_extension": ".py",
   "mimetype": "text/x-python",
   "name": "python",
   "nbconvert_exporter": "python",
   "pygments_lexer": "ipython3",
   "version": "3.8.5"
  }
 },
 "nbformat": 4,
 "nbformat_minor": 4
}
